{
 "cells": [
  {
   "cell_type": "markdown",
   "metadata": {},
   "source": [
    "# Binary Tree"
   ]
  },
  {
   "cell_type": "code",
   "execution_count": 6,
   "metadata": {},
   "outputs": [],
   "source": [
    "class BinaryTree(object):\n",
    "    \n",
    "    def __init__(self,rootObj):\n",
    "        self.key = rootObj\n",
    "        self.leftChild = None\n",
    "        self.rightChild = None\n",
    "\n",
    "    def insertLeft(self,newNode):\n",
    "        if self.leftChild == None:\n",
    "            self.leftChild = BinaryTree(newNode)\n",
    "        else:                                        # 當leftchild有值時，要把root的binary tree的original leftChild往下推一格\n",
    "            t = BinaryTree(newNode)                  # 先create新的newNode的binary tree\n",
    "            t.leftChild = self.leftChild             # 讓newNode的binary tree的leftChild等於root的binary tree的\n",
    "                                                     # original leftChild => 也就是root的binary tree的original leftChild被往\n",
    "                                                     # 下推一格\n",
    "            self.leftChild = t                       # 讓root的binary tree的leftChild成為newNode \n",
    "                                                     # => 也就是root的binary tree的新的leftChild是newNode\n",
    "\n",
    "    def insertRight(self,newNode):\n",
    "        if self.rightChild == None:\n",
    "            self.rightChild = BinaryTree(newNode)\n",
    "        else:\n",
    "            t = BinaryTree(newNode)\n",
    "            t.rightChild = self.rightChild\n",
    "            self.rightChild = t\n",
    "\n",
    "\n",
    "    def getRightChild(self):\n",
    "        return self.rightChild\n",
    "\n",
    "    def getLeftChild(self):\n",
    "        return self.leftChild\n",
    "\n",
    "    def setRootVal(self,obj):\n",
    "        self.key = obj\n",
    "\n",
    "    def getRootVal(self):\n",
    "        return self.key"
   ]
  },
  {
   "cell_type": "code",
   "execution_count": 7,
   "metadata": {},
   "outputs": [
    {
     "name": "stdout",
     "output_type": "stream",
     "text": [
      "a\n",
      "None\n",
      "<__main__.BinaryTree object at 0x000001BBA8F2D1D0>\n",
      "b\n",
      "<__main__.BinaryTree object at 0x000001BBA8F2D5F8>\n",
      "c\n",
      "hello\n"
     ]
    }
   ],
   "source": [
    "r = BinaryTree('a')\n",
    "print(r.getRootVal())\n",
    "print(r.getLeftChild())\n",
    "r.insertLeft('b')\n",
    "print(r.getLeftChild())                     # 此時會print出object，因為在insertLeft()時，是寫\n",
    "                                            # BinaryTree(newNode) => 讓newNode也成為BinaryTree(object)\n",
    "                                            # 所以直接print會print出object\n",
    "print(r.getLeftChild().getRootVal())        # 因此要多用getRootVal()來取得此BinaryTree(object)的最頂層\n",
    "r.insertRight('c')\n",
    "print(r.getRightChild())\n",
    "print(r.getRightChild().getRootVal())\n",
    "r.getRightChild().setRootVal('hello')\n",
    "print(r.getRightChild().getRootVal())"
   ]
  },
  {
   "cell_type": "markdown",
   "metadata": {},
   "source": [
    "# External functionals"
   ]
  },
  {
   "cell_type": "code",
   "execution_count": 8,
   "metadata": {},
   "outputs": [],
   "source": [
    "def preorder(tree):\n",
    "    \n",
    "    if tree != None:\n",
    "        \n",
    "        print (tree.getRootVal())\n",
    "        preorder(tree.getLeftChild())\n",
    "        preorder(tree.getRightChild())\n",
    "        "
   ]
  },
  {
   "cell_type": "code",
   "execution_count": 9,
   "metadata": {},
   "outputs": [],
   "source": [
    "def postorder(tree):\n",
    "    \n",
    "    if tree != None:\n",
    "        \n",
    "        postorder(tree.getLeftChild())\n",
    "        postorder(tree.getRightChild())\n",
    "        print (tree.getRootVal())"
   ]
  },
  {
   "cell_type": "code",
   "execution_count": 10,
   "metadata": {},
   "outputs": [],
   "source": [
    "def inorder(tree):\n",
    "    \n",
    "    if tree != None:\n",
    "        \n",
    "        inorder(tree.getLeftChild())\n",
    "        print (tree.getRootVal())\n",
    "        inorder(tree.getRightChild())"
   ]
  },
  {
   "cell_type": "code",
   "execution_count": 11,
   "metadata": {},
   "outputs": [
    {
     "name": "stdout",
     "output_type": "stream",
     "text": [
      "b\n",
      "a\n",
      "hello\n"
     ]
    }
   ],
   "source": [
    "inorder(r)"
   ]
  },
  {
   "cell_type": "markdown",
   "metadata": {},
   "source": [
    "# Binary Tree with internal methods"
   ]
  },
  {
   "cell_type": "code",
   "execution_count": null,
   "metadata": {},
   "outputs": [],
   "source": [
    "class BinaryTree(object):\n",
    "    \n",
    "    def __init__(self,rootObj):\n",
    "        self.key = rootObj\n",
    "        self.leftChild = None\n",
    "        self.rightChild = None\n",
    "\n",
    "    def insertLeft(self,newNode):\n",
    "        if self.leftChild == None:\n",
    "            self.leftChild = BinaryTree(newNode)\n",
    "        else:                                        \n",
    "            t = BinaryTree(newNode)                  \n",
    "            t.leftChild = self.leftChild                                                                                            \n",
    "            self.leftChild = t                       \n",
    "                                                     \n",
    "    def insertRight(self,newNode):\n",
    "        if self.rightChild == None:\n",
    "            self.rightChild = BinaryTree(newNode)\n",
    "        else:\n",
    "            t = BinaryTree(newNode)\n",
    "            t.rightChild = self.rightChild\n",
    "            self.rightChild = t\n",
    "\n",
    "\n",
    "    def getRightChild(self):\n",
    "        return self.rightChild\n",
    "\n",
    "    def getLeftChild(self):\n",
    "        return self.leftChild\n",
    "\n",
    "    def setRootVal(self,obj):\n",
    "        self.key = obj\n",
    "\n",
    "    def getRootVal(self):\n",
    "        return self.key\n",
    "    \n",
    "    def preorder(self):\n",
    "        \n",
    "        print(self.key)\n",
    "        \n",
    "        if self.leftChild:\n",
    "            self.leftChild.preorder()\n",
    "            \n",
    "        if self.rightChild:\n",
    "            self.rightChild.preorder()\n",
    "    \n",
    "    def inorder(self):\n",
    "        \n",
    "        if self.leftChild:\n",
    "            self.leftChild.inorder()\n",
    "            \n",
    "        print(self.key)\n",
    "        \n",
    "        if self.rightChild:\n",
    "            self.rightChild.inorder()\n",
    "    \n",
    "    def postorder(self):\n",
    "        \n",
    "        if self.leftChild:\n",
    "            self.leftChild.postorder()\n",
    "            \n",
    "        if self.rightChild:\n",
    "            self.rightChild.postorder()\n",
    "            \n",
    "        print(self.key)"
   ]
  }
 ],
 "metadata": {
  "kernelspec": {
   "display_name": "Python 3",
   "language": "python",
   "name": "python3"
  },
  "language_info": {
   "codemirror_mode": {
    "name": "ipython",
    "version": 3
   },
   "file_extension": ".py",
   "mimetype": "text/x-python",
   "name": "python",
   "nbconvert_exporter": "python",
   "pygments_lexer": "ipython3",
   "version": "3.7.3"
  }
 },
 "nbformat": 4,
 "nbformat_minor": 2
}
